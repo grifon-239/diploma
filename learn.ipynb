{
  "nbformat": 4,
  "nbformat_minor": 0,
  "metadata": {
    "colab": {
      "name": "learn.ipynb",
      "provenance": [],
      "collapsed_sections": []
    },
    "kernelspec": {
      "name": "python3",
      "display_name": "Python 3"
    },
    "accelerator": "GPU"
  },
  "cells": [
    {
      "cell_type": "code",
      "metadata": {
        "id": "RhyfwyIvgcH2",
        "colab_type": "code",
        "colab": {}
      },
      "source": [
        "!python tools/coco_annotation.py --dataset_path /content/cloud_google_str/coco/coco/ --classes_path '/content/drive/My Drive/Diploma/model/keras-YOLOv3-model-set/configs/coco_classes.txt'"
      ],
      "execution_count": 0,
      "outputs": []
    },
    {
      "cell_type": "code",
      "metadata": {
        "id": "ocGBxMqBQPcQ",
        "colab_type": "code",
        "colab": {}
      },
      "source": [
        "\n",
        "!pip install scipy\n",
        "!pip install opencv-python\n",
        "!pip install opencv-contrib-python\n",
        "!pip install tensorflow-gpu\n",
        "!pip install keras_applications\n",
        "!pip install tensorflow-model-optimization\n",
        "!pip install tqdm\n",
        "!pip install pillow\n",
        "!pip install mnn\n",
        "!pip install Cython\n",
        "!pip install pycocotools\n",
        "!pip install keras2onnx\n",
        "!pip install onnx\n",
        "!pip install onnxruntime\n",
        "!pip install tfcoreml\n",
        "!pip install sympy"
      ],
      "execution_count": 0,
      "outputs": []
    },
    {
      "cell_type": "code",
      "metadata": {
        "id": "aR-gCK_OKhc1",
        "colab_type": "code",
        "colab": {}
      },
      "source": [
        "!python tools/convert.py cfg/yolov3-tiny_1cls.cfg weights/yolov3-tiny.weights weights/yolov3-tiny-1cls.h5"
      ],
      "execution_count": 0,
      "outputs": []
    },
    {
      "cell_type": "code",
      "metadata": {
        "id": "X6OgSpbMC6FH",
        "colab_type": "code",
        "colab": {}
      },
      "source": [
        "!python train.py --model_type=tiny_yolo3_darknet --weights_path=weights/yolov3-tiny-1cls.h5 --anchors_path=configs/tiny_yolo3_anchors.txt --annotation_file=train2017test.txt --val_annotation_file=val2017test.txt --classes_path=configs/coco_classes.txt --batch_size 32 --transfer_epoch 5 --save_eval_checkpoint"
      ],
      "execution_count": 0,
      "outputs": []
    },
    {
      "cell_type": "code",
      "metadata": {
        "id": "yKMOLjwvC6Hy",
        "colab_type": "code",
        "colab": {}
      },
      "source": [
        ""
      ],
      "execution_count": 0,
      "outputs": []
    },
    {
      "cell_type": "code",
      "metadata": {
        "id": "G7v2p-uTC6KN",
        "colab_type": "code",
        "colab": {}
      },
      "source": [
        ""
      ],
      "execution_count": 0,
      "outputs": []
    }
  ]
}